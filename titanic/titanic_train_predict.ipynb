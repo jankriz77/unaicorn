{
 "cells": [
  {
   "cell_type": "code",
   "execution_count": 5,
   "metadata": {},
   "outputs": [
    {
     "name": "stderr",
     "output_type": "stream",
     "text": [
      "/home/jank/anaconda3/lib/python3.7/site-packages/sklearn/ensemble/forest.py:245: FutureWarning: The default value of n_estimators will change from 10 in version 0.20 to 100 in 0.22.\n",
      "  \"10 in version 0.20 to 100 in 0.22.\", FutureWarning)\n"
     ]
    }
   ],
   "source": [
    "import pandas as pd\n",
    "from sklearn.model_selection import train_test_split\n",
    "import pickle\n",
    "from sklearn.ensemble import RandomForestClassifier\n",
    "\n",
    "\n",
    "df = pd.read_csv(\"data/titanic/train.csv\")\n",
    "\n",
    "\n",
    "def get_title(name):\n",
    "    if '.' in name:\n",
    "        return name.split(',')[1].split('.')[0].strip()\n",
    "    else:\n",
    "        return 'Unknown'\n",
    "\n",
    "\n",
    "# A list with the all the different titles\n",
    "titles = sorted(set([x for x in df.Name.map(lambda x: get_title(x))]))\n",
    "\n",
    "\n",
    "# Normalize the titles\n",
    "def replace_titles(x):\n",
    "    title = x['Title']\n",
    "    if title in ['Capt', 'Col', 'Major']:\n",
    "        return 'Officer'\n",
    "    elif title in [\"Jonkheer\", \"Don\", 'the Countess', 'Dona', 'Lady', \"Sir\"]:\n",
    "        return 'Royalty'\n",
    "    elif title in ['the Countess', 'Mme', 'Lady']:\n",
    "        return 'Mrs'\n",
    "    elif title in ['Mlle', 'Ms']:\n",
    "        return 'Miss'\n",
    "    else:\n",
    "        return title\n",
    "\n",
    "\n",
    "# Lets create a new column for the titles\n",
    "df['Title'] = df['Name'].map(lambda x: get_title(x))\n",
    "# train.Title.value_counts()\n",
    "# train.Title.value_counts().plot(kind='bar')\n",
    "\n",
    "# And replace the titles, so the are normalized to 'Mr', 'Miss' and 'Mrs'\n",
    "df['Title'] = df.apply(replace_titles, axis=1)\n",
    "\n",
    "df['Age'].fillna(df['Age'].median(), inplace=True)\n",
    "df['Fare'].fillna(df['Fare'].median(), inplace=True)\n",
    "df['Embarked'].fillna(\"S\", inplace=True)\n",
    "df.drop(\"Cabin\", axis=1, inplace=True)\n",
    "df.drop(\"Ticket\", axis=1, inplace=True)\n",
    "df.drop(\"Name\", axis=1, inplace=True)\n",
    "df.Sex.replace(('male', 'female'), (0, 1), inplace=True)\n",
    "df.Embarked.replace(('S', 'C', 'Q'), (0, 1, 2), inplace=True)\n",
    "df.Title.replace(('Mr', 'Miss', 'Mrs', 'Master', 'Dr', 'Rev', 'Officer', 'Royalty'), (0, 1, 2, 3, 4, 5, 6, 7),\n",
    "                 inplace=True)\n",
    "\n",
    "predictors = df.drop(['Survived', 'PassengerId'], axis=1)\n",
    "target = df[\"Survived\"]\n",
    "x_train, x_val, y_train, y_val = train_test_split(predictors, target, test_size=0.1, random_state=0)\n",
    "\n",
    "randomforest = RandomForestClassifier()\n",
    "randomforest.fit(x_train, y_train)\n",
    "\n",
    "# následující tři řádky nejsou pro úspěšný běh programu důležité\n",
    "y_pred = randomforest.predict(x_val)\n",
    "filename = 'data/titanic/titanic_model.sav'\n",
    "pickle.dump(randomforest, open(filename, 'wb'))\n"
   ]
  },
  {
   "cell_type": "code",
   "execution_count": 11,
   "metadata": {},
   "outputs": [],
   "source": [
    "def prediction_model(pclass, sex, age, sibsp, parch, fare, embarked, title):\n",
    "    import pickle\n",
    "    x = [[pclass, sex, age, sibsp, parch, fare, embarked, title]]\n",
    "    randomforest = pickle.load(open(\"data/titanic/titanic_model.sav\",\"rb\"))\n",
    "    predictions = randomforest.predict(x)\n",
    "    print(predictions)\n"
   ]
  },
  {
   "cell_type": "code",
   "execution_count": 12,
   "metadata": {},
   "outputs": [
    {
     "name": "stdout",
     "output_type": "stream",
     "text": [
      "[0]\n"
     ]
    }
   ],
   "source": [
    "prediction_model(1,0,50,1,1,19,1,1)"
   ]
  },
  {
   "cell_type": "code",
   "execution_count": null,
   "metadata": {},
   "outputs": [],
   "source": []
  }
 ],
 "metadata": {
  "kernelspec": {
   "display_name": "Python 3",
   "language": "python",
   "name": "python3"
  },
  "language_info": {
   "codemirror_mode": {
    "name": "ipython",
    "version": 3
   },
   "file_extension": ".py",
   "mimetype": "text/x-python",
   "name": "python",
   "nbconvert_exporter": "python",
   "pygments_lexer": "ipython3",
   "version": "3.7.4"
  }
 },
 "nbformat": 4,
 "nbformat_minor": 2
}
